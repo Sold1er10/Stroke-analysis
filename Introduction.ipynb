{
 "cells": [
  {
   "cell_type": "markdown",
   "id": "db7a289c-1071-4061-b12d-954a87f7e06d",
   "metadata": {},
   "source": [
    "# About the topic:\n",
    "A stroke is a serious medical emergency that happens when blood flow to the brain is cut off. This can be caused by either a blockage in an artery (ischemic stroke) or bleeding in the brain (hemorrhagic stroke). When this happens, brain cells start to die, leading to sudden neurological problems. Recognizing the signs of stroke and acting quickly is crucial to minimize brain damage and improve recovery chances."
   ]
  },
  {
   "cell_type": "markdown",
   "id": "426537f7-16fa-418e-a755-74bbb9b00f38",
   "metadata": {},
   "source": [
    "# Dataset Features:\n",
    "\n",
    "1) **id:** unique identifier\n",
    "2) **gender:** \"Male\", \"Female\" or \"Other\"\n",
    "3) **age:** age of the patient\n",
    "4) **hypertension:** 0 if the patient doesn't have hypertension, 1 if the patient has hypertension\n",
    "5) **heart_disease:** 0 if the patient doesn't have any heart diseases, 1 if the patient has a heart disease\n",
    "6) **ever_married:** \"No\" or \"Yes\"\n",
    "7) **work_type:** \"children\", \"Govt_jov\", \"Never_worked\", \"Private\" or \"Self-employed\"\n",
    "8) **Residence_type:** \"Rural\" or \"Urban\"\n",
    "9) **avg_glucose_level:** average glucose level in blood\n",
    "10) **bmi:** body mass index\n",
    "11) **smoking_status:** \"formerly smoked\", \"never smoked\", \"smokes\" or \"Unknown\"*\n",
    "12) **stroke:** 1 if the patient had a stroke or 0 if not"
   ]
  },
  {
   "cell_type": "markdown",
   "id": "d7ffeea6-2770-4fd0-95c2-9509eb9163b4",
   "metadata": {},
   "source": [
    "# Data Source: [Kaggle](https://www.kaggle.com/datasets/fedesoriano/stroke-prediction-dataset)"
   ]
  }
 ],
 "metadata": {
  "kernelspec": {
   "display_name": "Python 3 (ipykernel)",
   "language": "python",
   "name": "python3"
  },
  "language_info": {
   "codemirror_mode": {
    "name": "ipython",
    "version": 3
   },
   "file_extension": ".py",
   "mimetype": "text/x-python",
   "name": "python",
   "nbconvert_exporter": "python",
   "pygments_lexer": "ipython3",
   "version": "3.12.4"
  }
 },
 "nbformat": 4,
 "nbformat_minor": 5
}
